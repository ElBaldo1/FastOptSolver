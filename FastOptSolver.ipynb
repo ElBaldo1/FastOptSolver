{
 "cells": [
  {
   "cell_type": "markdown",
   "metadata": {},
   "source": [
    "# FastOptSolver - Optimization Algorithm Comparison\n",
    "\n",
    "## Objective\n",
    "Compare the performance of ISTA and FISTA algorithms on the housing dataset."
   ]
  },
  {
   "cell_type": "markdown",
   "metadata": {},
   "source": [
    "## ISTA/FISTA Theory\n",
    "\n",
    "ISTA (Iterative Shrinkage-Thresholding Algorithm) is a first-order optimization method for solving problems with non-smooth regularizers. It has a convergence rate of O(1/k).\n",
    "\n",
    "FISTA (Fast Iterative Shrinkage-Thresholding Algorithm) is an accelerated version of ISTA with a convergence rate of O(1/k²). It uses a momentum term to accelerate convergence while maintaining the simplicity of ISTA."
   ]
  },
  {
   "cell_type": "code",
   "execution_count": null,
   "metadata": {},
   "outputs": [],
   "source": [
    "from experiments.housing_benchmark import run_ista_vs_fista_on_housing\n",
    "run_ista_vs_fista_on_housing(n_iter=100)"
   ]
  },
  {
   "cell_type": "markdown",
   "metadata": {},
   "source": [
    "## Conclusion and Next Steps\n",
    "\n",
    "From the results, we can observe the convergence behavior of ISTA vs FISTA on the housing dataset.\n",
    "\n",
    "Next steps could include:\n",
    "- Trying different regularization parameters\n",
    "- Comparing with other optimization methods (e.g., ADMM)\n",
    "- Testing on different datasets"
   ]
  }
 ],
 "metadata": {
  "kernelspec": {
   "display_name": "Python 3 (ipykernel)",
   "language": "python",
   "name": "python3"
  },
  "language_info": {
   "codemirror_mode": {
    "name": "ipython",
    "version": 3
   },
   "file_extension": ".py",
   "mimetype": "text/x-python",
   "name": "python",
   "nbconvert_exporter": "python",
   "pygments_lexer": "ipython3",
   "version": "3.11.5"
  }
 },
 "nbformat": 4,
 "nbformat_minor": 5
}
