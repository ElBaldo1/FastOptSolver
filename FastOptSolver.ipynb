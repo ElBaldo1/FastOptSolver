{
 "cells": [
  {
   "cell_type": "markdown",
   "metadata": {},
   "source": [
    "# FastOptSolver - Optimization Algorithm Comparison\n",
    "\n",
    "## Objective\n",
    "Compare the performance of ISTA and FISTA algorithms on the housing dataset."
   ]
  },
  {
   "cell_type": "markdown",
   "metadata": {},
   "source": [
    "## ISTA/FISTA Theory\n",
    "\n",
    "ISTA (Iterative Shrinkage-Thresholding Algorithm) is a first-order optimization method for solving problems with non-smooth regularizers. It has a convergence rate of O(1/k).\n",
    "\n",
    "FISTA (Fast Iterative Shrinkage-Thresholding Algorithm) is an accelerated version of ISTA with a convergence rate of O(1/k²). It uses a momentum term to accelerate convergence while maintaining the simplicity of ISTA."
   ]
  },
  {
   "cell_type": "code",
   "execution_count": 1,
   "metadata": {},
   "outputs": [
    {
     "ename": "ValueError",
     "evalue": "matmul: Input operand 1 has a mismatch in its core dimension 0, with gufunc signature (n?,k),(k,m?)->(n?,m?) (size 436 is different from 13)",
     "output_type": "error",
     "traceback": [
      "\u001b[1;31m---------------------------------------------------------------------------\u001b[0m",
      "\u001b[1;31mValueError\u001b[0m                                Traceback (most recent call last)",
      "Cell \u001b[1;32mIn[1], line 2\u001b[0m\n\u001b[0;32m      1\u001b[0m \u001b[38;5;28;01mfrom\u001b[39;00m \u001b[38;5;21;01mexperiments\u001b[39;00m\u001b[38;5;21;01m.\u001b[39;00m\u001b[38;5;21;01mhousing_benchmark\u001b[39;00m \u001b[38;5;28;01mimport\u001b[39;00m run_ista_vs_fista_on_housing\n\u001b[1;32m----> 2\u001b[0m \u001b[43mrun_ista_vs_fista_on_housing\u001b[49m\u001b[43m(\u001b[49m\u001b[43mn_iter\u001b[49m\u001b[38;5;241;43m=\u001b[39;49m\u001b[38;5;241;43m100\u001b[39;49m\u001b[43m)\u001b[49m\n",
      "File \u001b[1;32mD:\\Desktop\\scuola\\dl\\second year 2024\\exams\\second semester\\INFOF524 - continuous optimization\\project\\FastOptSolver\\experiments\\housing_benchmark.py:31\u001b[0m, in \u001b[0;36mrun_ista_vs_fista_on_housing\u001b[1;34m(n_iter)\u001b[0m\n\u001b[0;32m     28\u001b[0m loss \u001b[38;5;241m=\u001b[39m LassoLoss(alpha\u001b[38;5;241m=\u001b[39m\u001b[38;5;241m0.1\u001b[39m)\n\u001b[0;32m     30\u001b[0m \u001b[38;5;66;03m# Run experiments\u001b[39;00m\n\u001b[1;32m---> 31\u001b[0m ista_results \u001b[38;5;241m=\u001b[39m \u001b[43mrun_experiment\u001b[49m\u001b[43m(\u001b[49m\u001b[43mISTA\u001b[49m\u001b[43m,\u001b[49m\u001b[43m \u001b[49m\u001b[43mloss\u001b[49m\u001b[43m,\u001b[49m\u001b[43m \u001b[49m\u001b[43mX_train\u001b[49m\u001b[43m,\u001b[49m\u001b[43m \u001b[49m\u001b[43my_train\u001b[49m\u001b[43m,\u001b[49m\u001b[43m \u001b[49m\u001b[43mn_iter\u001b[49m\u001b[43m)\u001b[49m\n\u001b[0;32m     32\u001b[0m fista_results \u001b[38;5;241m=\u001b[39m run_experiment(FISTA, loss, X_train, y_train, n_iter)\n\u001b[0;32m     34\u001b[0m \u001b[38;5;66;03m# Create results DataFrame\u001b[39;00m\n",
      "File \u001b[1;32mD:\\Desktop\\scuola\\dl\\second year 2024\\exams\\second semester\\INFOF524 - continuous optimization\\project\\FastOptSolver\\experiments\\runner.py:38\u001b[0m, in \u001b[0;36mrun_experiment\u001b[1;34m(solver_cls, loss_obj, X, y, n_iter)\u001b[0m\n\u001b[0;32m     36\u001b[0m     \u001b[38;5;28;01mfor\u001b[39;00m i \u001b[38;5;129;01min\u001b[39;00m \u001b[38;5;28mrange\u001b[39m(n_iter):\n\u001b[0;32m     37\u001b[0m         solver\u001b[38;5;241m.\u001b[39mstep(X, y)\n\u001b[1;32m---> 38\u001b[0m         current_obj \u001b[38;5;241m=\u001b[39m \u001b[43mloss_obj\u001b[49m\u001b[38;5;241;43m.\u001b[39;49m\u001b[43mloss\u001b[49m\u001b[43m(\u001b[49m\u001b[43msolver\u001b[49m\u001b[38;5;241;43m.\u001b[39;49m\u001b[43mw\u001b[49m\u001b[43m,\u001b[49m\u001b[43m \u001b[49m\u001b[43mX\u001b[49m\u001b[43m,\u001b[49m\u001b[43m \u001b[49m\u001b[43my\u001b[49m\u001b[43m)\u001b[49m\n\u001b[0;32m     39\u001b[0m         history\u001b[38;5;241m.\u001b[39mappend(current_obj)\n\u001b[0;32m     41\u001b[0m \u001b[38;5;28;01mreturn\u001b[39;00m {\n\u001b[0;32m     42\u001b[0m     \u001b[38;5;124m'\u001b[39m\u001b[38;5;124msolver\u001b[39m\u001b[38;5;124m'\u001b[39m: solver\u001b[38;5;241m.\u001b[39m\u001b[38;5;18m__class__\u001b[39m\u001b[38;5;241m.\u001b[39m\u001b[38;5;18m__name__\u001b[39m,\n\u001b[0;32m     43\u001b[0m     \u001b[38;5;124m'\u001b[39m\u001b[38;5;124mfinal_obj\u001b[39m\u001b[38;5;124m'\u001b[39m: history[\u001b[38;5;241m-\u001b[39m\u001b[38;5;241m1\u001b[39m],\n\u001b[1;32m   (...)\u001b[0m\n\u001b[0;32m     46\u001b[0m     \u001b[38;5;124m'\u001b[39m\u001b[38;5;124mhistory\u001b[39m\u001b[38;5;124m'\u001b[39m: history\n\u001b[0;32m     47\u001b[0m }\n",
      "File \u001b[1;32mD:\\Desktop\\scuola\\dl\\second year 2024\\exams\\second semester\\INFOF524 - continuous optimization\\project\\FastOptSolver\\losses\\base_loss.py:44\u001b[0m, in \u001b[0;36mBaseLoss.loss\u001b[1;34m(self, X, y, w)\u001b[0m\n\u001b[0;32m     42\u001b[0m \u001b[38;5;28;01mdef\u001b[39;00m \u001b[38;5;21mloss\u001b[39m(\u001b[38;5;28mself\u001b[39m, X: np\u001b[38;5;241m.\u001b[39mndarray, y: np\u001b[38;5;241m.\u001b[39mndarray, w: np\u001b[38;5;241m.\u001b[39mndarray) \u001b[38;5;241m-\u001b[39m\u001b[38;5;241m>\u001b[39m \u001b[38;5;28mfloat\u001b[39m:  \u001b[38;5;66;03m# noqa: D401\u001b[39;00m\n\u001b[0;32m     43\u001b[0m \u001b[38;5;250m    \u001b[39m\u001b[38;5;124;03m\"\"\"Alias for :meth:`compute` (kept for legacy code).\"\"\"\u001b[39;00m\n\u001b[1;32m---> 44\u001b[0m     \u001b[38;5;28;01mreturn\u001b[39;00m \u001b[38;5;28;43mself\u001b[39;49m\u001b[38;5;241;43m.\u001b[39;49m\u001b[43mcompute\u001b[49m\u001b[43m(\u001b[49m\u001b[43mX\u001b[49m\u001b[43m,\u001b[49m\u001b[43m \u001b[49m\u001b[43my\u001b[49m\u001b[43m,\u001b[49m\u001b[43m \u001b[49m\u001b[43mw\u001b[49m\u001b[43m)\u001b[49m\n",
      "File \u001b[1;32mD:\\Desktop\\scuola\\dl\\second year 2024\\exams\\second semester\\INFOF524 - continuous optimization\\project\\FastOptSolver\\losses\\lasso.py:24\u001b[0m, in \u001b[0;36mLassoLoss.compute\u001b[1;34m(self, X, y, w)\u001b[0m\n\u001b[0;32m     22\u001b[0m \u001b[38;5;28;01mdef\u001b[39;00m \u001b[38;5;21mcompute\u001b[39m(\u001b[38;5;28mself\u001b[39m, X: np\u001b[38;5;241m.\u001b[39mndarray, y: np\u001b[38;5;241m.\u001b[39mndarray, w: np\u001b[38;5;241m.\u001b[39mndarray) \u001b[38;5;241m-\u001b[39m\u001b[38;5;241m>\u001b[39m \u001b[38;5;28mfloat\u001b[39m:\n\u001b[0;32m     23\u001b[0m     n \u001b[38;5;241m=\u001b[39m X\u001b[38;5;241m.\u001b[39mshape[\u001b[38;5;241m0\u001b[39m]\n\u001b[1;32m---> 24\u001b[0m     residual \u001b[38;5;241m=\u001b[39m \u001b[43mX\u001b[49m\u001b[43m \u001b[49m\u001b[38;5;241;43m@\u001b[39;49m\u001b[43m \u001b[49m\u001b[43mw\u001b[49m \u001b[38;5;241m-\u001b[39m y\n\u001b[0;32m     25\u001b[0m     mse_part \u001b[38;5;241m=\u001b[39m \u001b[38;5;241m0.5\u001b[39m \u001b[38;5;241m*\u001b[39m np\u001b[38;5;241m.\u001b[39mdot(residual, residual) \u001b[38;5;241m/\u001b[39m n\n\u001b[0;32m     26\u001b[0m     l1_part \u001b[38;5;241m=\u001b[39m \u001b[38;5;28mself\u001b[39m\u001b[38;5;241m.\u001b[39malpha \u001b[38;5;241m*\u001b[39m np\u001b[38;5;241m.\u001b[39msum(np\u001b[38;5;241m.\u001b[39mabs(w))\n",
      "\u001b[1;31mValueError\u001b[0m: matmul: Input operand 1 has a mismatch in its core dimension 0, with gufunc signature (n?,k),(k,m?)->(n?,m?) (size 436 is different from 13)"
     ]
    }
   ],
   "source": [
    "from experiments.housing_benchmark import run_ista_vs_fista_on_housing\n",
    "run_ista_vs_fista_on_housing(n_iter=100)"
   ]
  },
  {
   "cell_type": "markdown",
   "metadata": {},
   "source": [
    "## Conclusion and Next Steps\n",
    "\n",
    "From the results, we can observe the convergence behavior of ISTA vs FISTA on the housing dataset.\n",
    "\n",
    "Next steps could include:\n",
    "- Trying different regularization parameters\n",
    "- Comparing with other optimization methods (e.g., ADMM)\n",
    "- Testing on different datasets"
   ]
  }
 ],
 "metadata": {
  "kernelspec": {
   "display_name": "Python 3 (ipykernel)",
   "language": "python",
   "name": "python3"
  },
  "language_info": {
   "codemirror_mode": {
    "name": "ipython",
    "version": 3
   },
   "file_extension": ".py",
   "mimetype": "text/x-python",
   "name": "python",
   "nbconvert_exporter": "python",
   "pygments_lexer": "ipython3",
   "version": "3.11.5"
  }
 },
 "nbformat": 4,
 "nbformat_minor": 5
}
