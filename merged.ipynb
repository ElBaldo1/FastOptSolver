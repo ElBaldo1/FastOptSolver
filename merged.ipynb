{
 "cells": [
  {
   "metadata": {},
   "cell_type": "markdown",
   "source": [
    "# LASSO – ISTA vs FISTA\n",
    "\n",
    "- **Phase 1** Synthetic data\n",
    "- **Phase 2** Real Housing dataset\n"
   ],
   "id": "5624f5946859c580"
  },
  {
   "metadata": {},
   "cell_type": "markdown",
   "source": [
    "# **LASSO Regression with ISTA**\n",
    "\n",
    "**Objective**: Solve the LASSO problem using the **ISTA**  \n",
    "(Iterative Shrinkage-Thresholding Algorithm) method:\n",
    "\n",
    "$$\n",
    "\\min_x \\; \\frac{1}{2} \\, \\|Ax - b\\|_2^2 + \\lambda \\, \\|x\\|_1\n",
    "$$\n",
    "\n",
    "---\n",
    "\n",
    "## 1. Setup and Libraries\n",
    "\n",
    "We import essential libraries:\n",
    "- `numpy` for linear algebra  \n",
    "- `matplotlib` for basic plotting\n"
   ],
   "id": "d505e94f94877c01"
  },
  {
   "metadata": {},
   "cell_type": "code",
   "outputs": [],
   "execution_count": null,
   "source": [
    "import numpy as np\n",
    "import matplotlib.pyplot as plt\n",
    "import time\n",
    "\n",
    "%matplotlib inline\n"
   ],
   "id": "3e7392780f2e8553"
  }
 ],
 "metadata": {
  "kernelspec": {
   "display_name": "Python 3",
   "language": "python",
   "name": "python3"
  },
  "language_info": {
   "codemirror_mode": {
    "name": "ipython",
    "version": 2
   },
   "file_extension": ".py",
   "mimetype": "text/x-python",
   "name": "python",
   "nbconvert_exporter": "python",
   "pygments_lexer": "ipython2",
   "version": "2.7.6"
  }
 },
 "nbformat": 4,
 "nbformat_minor": 5
}
